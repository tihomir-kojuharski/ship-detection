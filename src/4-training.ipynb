{
 "cells": [
  {
   "cell_type": "markdown",
   "metadata": {},
   "source": [
    "# Неуспешни експерименти\n",
    "\n",
    "Тренираме модела с 22715 тренировъчни и 7587 валидационни примера. Опитах да подам следните anchor параметри (зададени в anchor_parameters.ini файла):"
   ]
  },
  {
   "cell_type": "raw",
   "metadata": {},
   "source": [
    "anchor_params = {\n",
    "    'sizes':   [16, 32, 64, 128, 256],\n",
    "    'strides': [4,  8,  16, 32,  64],\n",
    "    'ratios':  [0.5, 1, 2],\n",
    "    'scales':  [1, 1.2599210498948732, 1.5874010519681994]\n",
    "}\n",
    "\n",
    "pyramid_levels=[2, 3, 4, 5, 6]"
   ]
  },
  {
   "cell_type": "markdown",
   "metadata": {},
   "source": [
    "Резултата беше mAP=0 дори след 6 епохи. Бихме могли в бъдеще да проверим защо при промяна на sizes, strides и pyramid_levels, получаваме mAP=0"
   ]
  },
  {
   "cell_type": "code",
   "execution_count": null,
   "metadata": {},
   "outputs": [
    {
     "name": "stderr",
     "output_type": "stream",
     "text": [
      "Using TensorFlow backend.\n"
     ]
    },
    {
     "name": "stdout",
     "output_type": "stream",
     "text": [
      "Creating model, this may take a second...\n",
      "Epoch 1/10\n",
      "1128/1128 [==============================] - 3504s 3s/step - loss: 2.7824 - regression_loss: 1.8235 - classification_loss: 0.9588\n"
     ]
    },
    {
     "name": "stderr",
     "output_type": "stream",
     "text": [
      "Running network: 100% (2632 of 2632) |###| Elapsed Time: 0:09:27 Time:  0:09:27\n",
      "Parsing annotations: 100% (2632 of 2632) || Elapsed Time: 0:00:00 Time:  0:00:00\n"
     ]
    },
    {
     "name": "stdout",
     "output_type": "stream",
     "text": [
      "7254 instances of class ship with average precision: 0.0000\n",
      "mAP: 0.0000\n",
      "\n",
      "Epoch 00001: saving model to ./snapshots/resnet50_csv_01.h5\n",
      "Epoch 2/10\n",
      "1128/1128 [==============================] - 3486s 3s/step - loss: 2.8359 - regression_loss: 1.7938 - classification_loss: 1.0421\n"
     ]
    },
    {
     "name": "stderr",
     "output_type": "stream",
     "text": [
      "Running network: 100% (2632 of 2632) |###| Elapsed Time: 0:09:18 Time:  0:09:18\n",
      "Parsing annotations: 100% (2632 of 2632) || Elapsed Time: 0:00:00 Time:  0:00:00\n"
     ]
    },
    {
     "name": "stdout",
     "output_type": "stream",
     "text": [
      "7254 instances of class ship with average precision: 0.0000\n",
      "mAP: 0.0000\n",
      "\n",
      "Epoch 00002: saving model to ./snapshots/resnet50_csv_02.h5\n",
      "Epoch 3/10\n",
      "1128/1128 [==============================] - 3484s 3s/step - loss: 2.9055 - regression_loss: 1.8192 - classification_loss: 1.0863\n"
     ]
    },
    {
     "name": "stderr",
     "output_type": "stream",
     "text": [
      "Running network: 100% (2632 of 2632) |###| Elapsed Time: 0:09:20 Time:  0:09:20\n",
      "Parsing annotations: 100% (2632 of 2632) || Elapsed Time: 0:00:00 Time:  0:00:00\n"
     ]
    },
    {
     "name": "stdout",
     "output_type": "stream",
     "text": [
      "7254 instances of class ship with average precision: 0.0000\n",
      "mAP: 0.0000\n",
      "\n",
      "Epoch 00003: saving model to ./snapshots/resnet50_csv_03.h5\n",
      "\n",
      "Epoch 00003: ReduceLROnPlateau reducing learning rate to 9.999999747378752e-07.\n",
      "Epoch 4/10\n",
      "1128/1128 [==============================] - 3487s 3s/step - loss: 2.7823 - regression_loss: 1.8387 - classification_loss: 0.9436\n"
     ]
    },
    {
     "name": "stderr",
     "output_type": "stream",
     "text": [
      "Running network: 100% (2632 of 2632) |###| Elapsed Time: 0:09:19 Time:  0:09:19\n",
      "Parsing annotations: 100% (2632 of 2632) || Elapsed Time: 0:00:00 Time:  0:00:00\n"
     ]
    },
    {
     "name": "stdout",
     "output_type": "stream",
     "text": [
      "7254 instances of class ship with average precision: 0.0000\n",
      "mAP: 0.0000\n",
      "\n",
      "Epoch 00004: saving model to ./snapshots/resnet50_csv_04.h5\n",
      "Epoch 5/10\n",
      "1128/1128 [==============================] - 3486s 3s/step - loss: 2.8463 - regression_loss: 1.8436 - classification_loss: 1.0027\n"
     ]
    },
    {
     "name": "stderr",
     "output_type": "stream",
     "text": [
      "Running network: 100% (2632 of 2632) |###| Elapsed Time: 0:09:19 Time:  0:09:19\n",
      "Parsing annotations: 100% (2632 of 2632) || Elapsed Time: 0:00:00 Time:  0:00:00\n"
     ]
    },
    {
     "name": "stdout",
     "output_type": "stream",
     "text": [
      "7254 instances of class ship with average precision: 0.0000\n",
      "mAP: 0.0000\n",
      "\n",
      "Epoch 00005: saving model to ./snapshots/resnet50_csv_05.h5\n",
      "\n",
      "Epoch 00005: ReduceLROnPlateau reducing learning rate to 9.999999974752428e-08.\n",
      "Epoch 6/10\n",
      "1128/1128 [==============================] - 3486s 3s/step - loss: 2.8199 - regression_loss: 1.8128 - classification_loss: 1.0071\n"
     ]
    },
    {
     "name": "stderr",
     "output_type": "stream",
     "text": [
      "Running network: 100% (2632 of 2632) |###| Elapsed Time: 0:09:18 Time:  0:09:18\n",
      "Parsing annotations: 100% (2632 of 2632) || Elapsed Time: 0:00:00 Time:  0:00:00\n"
     ]
    },
    {
     "name": "stdout",
     "output_type": "stream",
     "text": [
      "7254 instances of class ship with average precision: 0.0000\n",
      "mAP: 0.0000\n",
      "\n",
      "Epoch 00006: saving model to ./snapshots/resnet50_csv_06.h5\n",
      "Epoch 7/10\n",
      " 999/1128 [=========================>....] - ETA: 6:38 - loss: 2.7575 - regression_loss: 1.7710 - classification_loss: 0.9865"
     ]
    }
   ],
   "source": [
    "import keras\n",
    "\n",
    "import keras_retinanet.models as models\n",
    "\n",
    "from train import get_session, create_generators, create_models, create_callbacks, read_config_file\n",
    "\n",
    "import warnings\n",
    "warnings.simplefilter(\"ignore\", UserWarning)\n",
    "\n",
    "config = {\n",
    "    'backbone': 'resnet50',\n",
    "    'weights': 'keras-retinanet/snapshots/resnet50_coco_best_v2.1.0.h5',\n",
    "    'dataset_type': 'csv',\n",
    "    'annotations': '../data/train_v2/train.csv',\n",
    "    'classes': '../data/bboxes_classes.csv',\n",
    "    'val_annotations': '../data/train_v2/validation.csv',\n",
    "    'multi_gpu': 0,\n",
    "    'freeze_backbone': False,\n",
    "    'lr': 1e-5,\n",
    "    'config': './anchor_parameters.ini',\n",
    "    \n",
    "    'steps': None,\n",
    "    'epochs': 10,\n",
    "    'workers': 4,\n",
    "    'max_queue_size': 10,\n",
    "    'random_transform': False,\n",
    "    \n",
    "    'batch_size': 7,\n",
    "    'image_min_side': 800,\n",
    "    'image_max_side': 1333,\n",
    "    'snapshots': True,\n",
    "    'snapshot_path': './snapshots',\n",
    "    'evaluation': True,\n",
    "    'weighted_average': False,\n",
    "    'tensorboard_dir': './tensorboard_logs'\n",
    "}\n",
    "\n",
    "# create object that stores backbone information\n",
    "backbone = models.backbone(config['backbone'])\n",
    "keras.backend.tensorflow_backend.set_session(get_session())\n",
    "\n",
    "if config['config']:\n",
    "    config['config'] = read_config_file(config['config'])\n",
    "\n",
    "# create the generators\n",
    "train_generator, validation_generator = create_generators(config, backbone.preprocess_image)\n",
    "\n",
    "print('Creating model, this may take a second...')\n",
    "model, training_model, prediction_model = create_models(\n",
    "    backbone_retinanet=backbone.retinanet,\n",
    "    num_classes=train_generator.num_classes(),\n",
    "    weights=config['weights'],\n",
    "    multi_gpu=config['multi_gpu'],\n",
    "    freeze_backbone=config['freeze_backbone'],\n",
    "    lr=config['lr'],\n",
    "    config=config['config']\n",
    ")\n",
    "\n",
    "# create the callbacks\n",
    "callbacks = create_callbacks(\n",
    "    model,\n",
    "    training_model,\n",
    "    prediction_model,\n",
    "    validation_generator,\n",
    "    config,\n",
    ")\n",
    "\n",
    "# start training\n",
    "training_model.fit_generator(\n",
    "    generator=train_generator,\n",
    "    steps_per_epoch=config['steps'],\n",
    "    epochs=config['epochs'],\n",
    "    verbose=1,\n",
    "    callbacks=callbacks,\n",
    "    workers=config['workers'],\n",
    "    use_multiprocessing=config['workers'] > 0,\n",
    "    max_queue_size=config['max_queue_size']\n",
    ")\n"
   ]
  },
  {
   "cell_type": "code",
   "execution_count": null,
   "metadata": {},
   "outputs": [],
   "source": []
  }
 ],
 "metadata": {
  "kernelspec": {
   "display_name": "Python 3",
   "language": "python",
   "name": "python3"
  },
  "language_info": {
   "codemirror_mode": {
    "name": "ipython",
    "version": 3
   },
   "file_extension": ".py",
   "mimetype": "text/x-python",
   "name": "python",
   "nbconvert_exporter": "python",
   "pygments_lexer": "ipython3",
   "version": "3.6.8"
  }
 },
 "nbformat": 4,
 "nbformat_minor": 2
}
