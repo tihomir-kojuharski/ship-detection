{
 "cells": [
  {
   "cell_type": "markdown",
   "metadata": {},
   "source": [
    "# Филтриране на данните"
   ]
  },
  {
   "cell_type": "code",
   "execution_count": 1,
   "metadata": {},
   "outputs": [],
   "source": [
    "import os\n",
    "import numpy as np \n",
    "import pandas as pd\n",
    "\n",
    "import seaborn as sns\n",
    "sns.set(style=\"darkgrid\")\n",
    "\n",
    "from config import bboxes_file, train_image_dir\n",
    "\n",
    "import matplotlib.pyplot as plt\n",
    "# Needed to fix the issue that pd.DataFrame.hist() doesn't show anything the first time it's executed\n",
    "plt.close('all')\n",
    "\n",
    "from sklearn.model_selection import train_test_split\n",
    "\n",
    "import warnings\n",
    "warnings.simplefilter(action='ignore', category=FutureWarning)"
   ]
  },
  {
   "cell_type": "markdown",
   "metadata": {},
   "source": [
    "## Зареждане на данните"
   ]
  },
  {
   "cell_type": "code",
   "execution_count": 2,
   "metadata": {},
   "outputs": [],
   "source": [
    "images_df = pd.read_csv(bboxes_file, header=None, names=['image_id', 'x1', 'y1', 'x2', 'y2', 'class'], index_col='image_id')\n",
    "\n",
    "# Convert float columns to int, so they can be used to draw the bounding boxes without casting\n",
    "for col in ['x1', 'y1', 'x2', 'y2']:\n",
    "    images_df[col] = images_df[col].fillna(-1)\n",
    "    images_df[col] = images_df[col].astype('Int32')\n",
    "    images_df[col] = images_df[col].replace(-1, np.nan)"
   ]
  },
  {
   "cell_type": "markdown",
   "metadata": {},
   "source": [
    "## Разглеждане на данните"
   ]
  },
  {
   "cell_type": "code",
   "execution_count": 3,
   "metadata": {},
   "outputs": [
    {
     "name": "stdout",
     "output_type": "stream",
     "text": [
      "Dataset shape:  (223591, 5)\n"
     ]
    },
    {
     "data": {
      "text/html": [
       "<div>\n",
       "<style scoped>\n",
       "    .dataframe tbody tr th:only-of-type {\n",
       "        vertical-align: middle;\n",
       "    }\n",
       "\n",
       "    .dataframe tbody tr th {\n",
       "        vertical-align: top;\n",
       "    }\n",
       "\n",
       "    .dataframe thead th {\n",
       "        text-align: right;\n",
       "    }\n",
       "</style>\n",
       "<table border=\"1\" class=\"dataframe\">\n",
       "  <thead>\n",
       "    <tr style=\"text-align: right;\">\n",
       "      <th></th>\n",
       "      <th>x1</th>\n",
       "      <th>y1</th>\n",
       "      <th>x2</th>\n",
       "      <th>y2</th>\n",
       "      <th>class</th>\n",
       "    </tr>\n",
       "    <tr>\n",
       "      <th>image_id</th>\n",
       "      <th></th>\n",
       "      <th></th>\n",
       "      <th></th>\n",
       "      <th></th>\n",
       "      <th></th>\n",
       "    </tr>\n",
       "  </thead>\n",
       "  <tbody>\n",
       "    <tr>\n",
       "      <th>00003e153.jpg</th>\n",
       "      <td>NaN</td>\n",
       "      <td>NaN</td>\n",
       "      <td>NaN</td>\n",
       "      <td>NaN</td>\n",
       "      <td>NaN</td>\n",
       "    </tr>\n",
       "    <tr>\n",
       "      <th>0001124c7.jpg</th>\n",
       "      <td>NaN</td>\n",
       "      <td>NaN</td>\n",
       "      <td>NaN</td>\n",
       "      <td>NaN</td>\n",
       "      <td>NaN</td>\n",
       "    </tr>\n",
       "    <tr>\n",
       "      <th>000155de5.jpg</th>\n",
       "      <td>344</td>\n",
       "      <td>465</td>\n",
       "      <td>448</td>\n",
       "      <td>501</td>\n",
       "      <td>ship</td>\n",
       "    </tr>\n",
       "    <tr>\n",
       "      <th>000194a2d.jpg</th>\n",
       "      <td>67</td>\n",
       "      <td>377</td>\n",
       "      <td>85</td>\n",
       "      <td>387</td>\n",
       "      <td>ship</td>\n",
       "    </tr>\n",
       "    <tr>\n",
       "      <th>000194a2d.jpg</th>\n",
       "      <td>258</td>\n",
       "      <td>174</td>\n",
       "      <td>306</td>\n",
       "      <td>185</td>\n",
       "      <td>ship</td>\n",
       "    </tr>\n",
       "  </tbody>\n",
       "</table>\n",
       "</div>"
      ],
      "text/plain": [
       "                x1   y1   x2   y2 class\n",
       "image_id                               \n",
       "00003e153.jpg  NaN  NaN  NaN  NaN   NaN\n",
       "0001124c7.jpg  NaN  NaN  NaN  NaN   NaN\n",
       "000155de5.jpg  344  465  448  501  ship\n",
       "000194a2d.jpg   67  377   85  387  ship\n",
       "000194a2d.jpg  258  174  306  185  ship"
      ]
     },
     "execution_count": 3,
     "metadata": {},
     "output_type": "execute_result"
    }
   ],
   "source": [
    "print(\"Dataset shape: \", images_df.shape)\n",
    "images_df.head()"
   ]
  },
  {
   "cell_type": "code",
   "execution_count": 4,
   "metadata": {},
   "outputs": [],
   "source": [
    "images_df.loc[images_df['class'] == 'ship', 'ships'] = 1\n",
    "\n",
    "unique_images_df = images_df.groupby(images_df.index).agg({'ships': 'sum'}).reset_index()\n",
    "unique_images_df['has_ship'] = unique_images_df['ships'].map(lambda x: 1.0 if x>0 else 0.0)\n",
    "\n",
    "# We don't need the 'ships' column in the main dataframe anymore\n",
    "images_df = images_df.drop(['ships'], axis=1)"
   ]
  },
  {
   "cell_type": "markdown",
   "metadata": {},
   "source": [
    "Да разгледаме разпределението по брой кораби"
   ]
  },
  {
   "cell_type": "code",
   "execution_count": 5,
   "metadata": {},
   "outputs": [
    {
     "data": {
      "text/plain": [
       "0.0     150000\n",
       "1.0      28775\n",
       "2.0       7290\n",
       "3.0       2787\n",
       "4.0       1404\n",
       "5.0        754\n",
       "6.0        473\n",
       "7.0        348\n",
       "8.0        228\n",
       "9.0        161\n",
       "10.0       118\n",
       "11.0        76\n",
       "12.0        62\n",
       "13.0        36\n",
       "15.0        23\n",
       "14.0        15\n",
       "28.0         2\n",
       "31.0         2\n",
       "17.0         1\n",
       "24.0         1\n",
       "Name: ships, dtype: int64"
      ]
     },
     "execution_count": 5,
     "metadata": {},
     "output_type": "execute_result"
    }
   ],
   "source": [
    "unique_images_df[unique_images_df['ships'] >= 0]['ships'].value_counts()"
   ]
  },
  {
   "cell_type": "markdown",
   "metadata": {},
   "source": [
    "Да видим визуално разпределението на картинките, като премахнем тези без кораби, тъй като те само ще "
   ]
  },
  {
   "cell_type": "code",
   "execution_count": 6,
   "metadata": {},
   "outputs": [
    {
     "data": {
      "image/png": "[encoded data removed]",
      "text/plain": [
       "<Figure size 432x288 with 1 Axes>"
      ]
     },
     "metadata": {
      "needs_background": "light"
     },
     "output_type": "display_data"
    }
   ],
   "source": [
    "sns.distplot(unique_images_df[unique_images_df['ships'] > 0]['ships'], bins=30);"
   ]
  },
  {
   "cell_type": "markdown",
   "metadata": {},
   "source": [
    "Нека разгледаме големините на файловете"
   ]
  },
  {
   "cell_type": "code",
   "execution_count": 7,
   "metadata": {},
   "outputs": [
    {
     "data": {
      "image/png": "[encoded data removed]",
      "text/plain": [
       "<Figure size 432x288 with 1 Axes>"
      ]
     },
     "metadata": {
      "needs_background": "light"
     },
     "output_type": "display_data"
    }
   ],
   "source": [
    "sns.distplot(unique_images_df['image_id'].map(\n",
    "    lambda c_img_id: \n",
    "        os.stat(os.path.join(train_image_dir, c_img_id)).st_size/1024\n",
    "));"
   ]
  },
  {
   "cell_type": "markdown",
   "metadata": {},
   "source": [
    "В baseline kernel-а в Кагъл се филтрират картинките, които са по-малки от 50кб, но разгледах някои от тях и изглеждаха валидни картинки. Размерът им е по-малък, защото в тях преобладава един цвят (син). Затова реших да ги оставя."
   ]
  },
  {
   "cell_type": "markdown",
   "metadata": {},
   "source": [
    "## Изводи\n",
    "\n",
    "1) Имаме огромен дейтасет и за да можем да направим няколко експериментa, ще трябва да го намалим\n",
    "\n",
    "2) Иглежда на 3/4 от картинките няма нито един кораб. Ако оставим данните със същата пропорция по-скоро ще забавим тренирането на модела, отколкото ще повишим точността. "
   ]
  },
  {
   "cell_type": "markdown",
   "metadata": {},
   "source": [
    "## Намаляване не dataset-а"
   ]
  },
  {
   "cell_type": "code",
   "execution_count": 8,
   "metadata": {},
   "outputs": [
    {
     "data": {
      "text/plain": [
       "(192556, 3)"
      ]
     },
     "execution_count": 8,
     "metadata": {},
     "output_type": "execute_result"
    }
   ],
   "source": [
    "unique_images_df.shape"
   ]
  },
  {
   "cell_type": "code",
   "execution_count": 9,
   "metadata": {},
   "outputs": [],
   "source": [
    "unique_images_df['grouped_ship_count'] = unique_images_df['ships'].map(lambda x: (x+1)//2).clip(0, 7)\n",
    "def sample_ships(in_df, base_rep_val=5000):\n",
    "    if in_df['ships'].values[0]==0:\n",
    "        return in_df.sample(base_rep_val//3, random_state=42) # even more strongly undersample no ships\n",
    "    else:\n",
    "        return in_df.sample(min(base_rep_val, in_df.shape[0]), random_state=42)\n",
    "    \n",
    "balanced_unique_images_df = unique_images_df.groupby('grouped_ship_count') \\\n",
    "    .apply(sample_ships) \\\n",
    "    .set_index('image_id') \\\n",
    "    .drop(['grouped_ship_count'], axis=1)\n",
    "\n",
    "unique_images_df = unique_images_df.drop(['grouped_ship_count'], axis=1)\n"
   ]
  },
  {
   "cell_type": "markdown",
   "metadata": {},
   "source": [
    "Да разгледаме получените данни, за да видим дали са добре балансирани"
   ]
  },
  {
   "cell_type": "code",
   "execution_count": 10,
   "metadata": {},
   "outputs": [
    {
     "name": "stdout",
     "output_type": "stream",
     "text": [
      "Shape:  (13157, 2)\n"
     ]
    },
    {
     "data": {
      "text/html": [
       "<div>\n",
       "<style scoped>\n",
       "    .dataframe tbody tr th:only-of-type {\n",
       "        vertical-align: middle;\n",
       "    }\n",
       "\n",
       "    .dataframe tbody tr th {\n",
       "        vertical-align: top;\n",
       "    }\n",
       "\n",
       "    .dataframe thead th {\n",
       "        text-align: right;\n",
       "    }\n",
       "</style>\n",
       "<table border=\"1\" class=\"dataframe\">\n",
       "  <thead>\n",
       "    <tr style=\"text-align: right;\">\n",
       "      <th></th>\n",
       "      <th>ships</th>\n",
       "      <th>has_ship</th>\n",
       "    </tr>\n",
       "  </thead>\n",
       "  <tbody>\n",
       "    <tr>\n",
       "      <th>count</th>\n",
       "      <td>13157.000000</td>\n",
       "      <td>13157.000000</td>\n",
       "    </tr>\n",
       "    <tr>\n",
       "      <th>mean</th>\n",
       "      <td>2.752603</td>\n",
       "      <td>0.873375</td>\n",
       "    </tr>\n",
       "    <tr>\n",
       "      <th>std</th>\n",
       "      <td>2.539438</td>\n",
       "      <td>0.332565</td>\n",
       "    </tr>\n",
       "    <tr>\n",
       "      <th>min</th>\n",
       "      <td>0.000000</td>\n",
       "      <td>0.000000</td>\n",
       "    </tr>\n",
       "    <tr>\n",
       "      <th>25%</th>\n",
       "      <td>1.000000</td>\n",
       "      <td>1.000000</td>\n",
       "    </tr>\n",
       "    <tr>\n",
       "      <th>50%</th>\n",
       "      <td>2.000000</td>\n",
       "      <td>1.000000</td>\n",
       "    </tr>\n",
       "    <tr>\n",
       "      <th>75%</th>\n",
       "      <td>4.000000</td>\n",
       "      <td>1.000000</td>\n",
       "    </tr>\n",
       "    <tr>\n",
       "      <th>max</th>\n",
       "      <td>31.000000</td>\n",
       "      <td>1.000000</td>\n",
       "    </tr>\n",
       "  </tbody>\n",
       "</table>\n",
       "</div>"
      ],
      "text/plain": [
       "              ships      has_ship\n",
       "count  13157.000000  13157.000000\n",
       "mean       2.752603      0.873375\n",
       "std        2.539438      0.332565\n",
       "min        0.000000      0.000000\n",
       "25%        1.000000      1.000000\n",
       "50%        2.000000      1.000000\n",
       "75%        4.000000      1.000000\n",
       "max       31.000000      1.000000"
      ]
     },
     "execution_count": 10,
     "metadata": {},
     "output_type": "execute_result"
    }
   ],
   "source": [
    "print('Shape: ', balanced_unique_images_df.shape)\n",
    "balanced_unique_images_df.describe()"
   ]
  },
  {
   "cell_type": "code",
   "execution_count": 11,
   "metadata": {},
   "outputs": [
    {
     "data": {
      "image/png": "[encoded data removed]",
      "text/plain": [
       "<Figure size 432x288 with 1 Axes>"
      ]
     },
     "metadata": {
      "needs_background": "light"
     },
     "output_type": "display_data"
    }
   ],
   "source": [
    "sns.distplot(balanced_unique_images_df['ships'], bins=20);"
   ]
  },
  {
   "cell_type": "code",
   "execution_count": 12,
   "metadata": {},
   "outputs": [
    {
     "data": {
      "text/plain": [
       "1.0     4020\n",
       "3.0     2787\n",
       "0.0     1666\n",
       "4.0     1404\n",
       "2.0      980\n",
       "5.0      754\n",
       "6.0      473\n",
       "7.0      348\n",
       "8.0      228\n",
       "9.0      161\n",
       "10.0     118\n",
       "11.0      76\n",
       "12.0      62\n",
       "13.0      36\n",
       "15.0      23\n",
       "14.0      15\n",
       "28.0       2\n",
       "31.0       2\n",
       "24.0       1\n",
       "17.0       1\n",
       "Name: ships, dtype: int64"
      ]
     },
     "execution_count": 12,
     "metadata": {},
     "output_type": "execute_result"
    }
   ],
   "source": [
    "balanced_unique_images_df['ships'].value_counts()"
   ]
  },
  {
   "cell_type": "markdown",
   "metadata": {},
   "source": [
    "Ако пуснем train_test_split със stratify='ships' ще получим грешка, тъй като има класове, за които имаме само по един пример (ships=17, ships=24, ...). Затова ще обединим в един клас (ships=14) всички картинки, които имат >= 14 кораба"
   ]
  },
  {
   "cell_type": "code",
   "execution_count": 13,
   "metadata": {},
   "outputs": [],
   "source": [
    "balanced_unique_images_df['ships'] = balanced_unique_images_df['ships'].clip(0, 14)"
   ]
  },
  {
   "cell_type": "code",
   "execution_count": 14,
   "metadata": {},
   "outputs": [
    {
     "name": "stdout",
     "output_type": "stream",
     "text": [
      "22715 training examples\n",
      "7587 validation examples\n",
      "7580 test examples\n"
     ]
    }
   ],
   "source": [
    "def train_test_split_df(in_df, test_size):\n",
    "    train_ids, test_ids = train_test_split(\n",
    "        in_df, \n",
    "        test_size = test_size, \n",
    "        stratify = in_df['ships'],\n",
    "        random_state=42)\n",
    "\n",
    "\n",
    "    train_df = pd.merge(images_df, train_ids, left_index=True, right_index=True).drop(['ships', 'has_ship'], axis=1)\n",
    "    test_df = pd.merge(images_df, test_ids, left_index=True, right_index=True).drop(['ships', 'has_ship'], axis=1)\n",
    "\n",
    "    return train_df, test_df, train_ids\n",
    "    \n",
    "train_validation_df, test_df, train_validation_ids = train_test_split_df(balanced_unique_images_df, test_size=0.2)\n",
    "train_df, validation_df, _ = train_test_split_df(train_validation_ids, test_size=0.25)\n",
    "\n",
    "print(train_df.shape[0], 'training examples')\n",
    "print(validation_df.shape[0], 'validation examples')\n",
    "print(test_df.shape[0], 'test examples')"
   ]
  },
  {
   "cell_type": "markdown",
   "metadata": {},
   "source": [
    "Имаме доста повече примери отколкото картинки, защото много от картинките имат по повече от един анотиран кораб"
   ]
  },
  {
   "cell_type": "markdown",
   "metadata": {},
   "source": [
    "Ще запазим генерираните train, validation и test данни, за да можем да ги подадем на keras_retinanet модела"
   ]
  },
  {
   "cell_type": "code",
   "execution_count": 15,
   "metadata": {},
   "outputs": [],
   "source": [
    "def save_bboxes_to_file(bboxes_df, filename):\n",
    "    bboxes_df.to_csv(filename, header=False)"
   ]
  },
  {
   "cell_type": "code",
   "execution_count": 16,
   "metadata": {},
   "outputs": [],
   "source": [
    "save_bboxes_to_file(train_df, os.path.join(train_image_dir, 'train.csv'))\n",
    "save_bboxes_to_file(validation_df, os.path.join(train_image_dir, 'validation.csv'))\n",
    "save_bboxes_to_file(test_df, os.path.join(train_image_dir, 'test.csv'))"
   ]
  }
 ],
 "metadata": {
  "kernelspec": {
   "display_name": "Python 3",
   "language": "python",
   "name": "python3"
  },
  "language_info": {
   "codemirror_mode": {
    "name": "ipython",
    "version": 3
   },
   "file_extension": ".py",
   "mimetype": "text/x-python",
   "name": "python",
   "nbconvert_exporter": "python",
   "pygments_lexer": "ipython3",
   "version": "3.6.8"
  }
 },
 "nbformat": 4,
 "nbformat_minor": 2
}
