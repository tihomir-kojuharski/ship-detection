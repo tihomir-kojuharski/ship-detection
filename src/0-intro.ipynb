{
 "cells": [
  {
   "cell_type": "markdown",
   "metadata": {},
   "source": [
    "# Задача\n",
    "Ще разгледаме следната задача от Kaggle - https://www.kaggle.com/c/airbus-ship-detection, но като задача за object detection, а не за сегментация, тъй като е по-прост, но и същевременно достатъчно интересен проблем. "
   ]
  },
  {
   "cell_type": "markdown",
   "metadata": {},
   "source": [
    "# Решение\n",
    "\n",
    "След кратко проучване открих, че един от най-добрите модели за тази задача би бил RetinaNet: https://arxiv.org/abs/1708.02002"
   ]
  },
  {
   "cell_type": "markdown",
   "metadata": {},
   "source": [
    "![title](images/retinanet.png)"
   ]
  },
  {
   "cell_type": "markdown",
   "metadata": {},
   "source": [
    "Модела е базиран на една фаза - т.е. няма предварително предсказване на подходящи ограждащи прозорци. Използва се sliding window с pyramid feature-и, което го прави подходящ за откриване на обекти с различни размери. Иновацията при този модел е Focal Loss функцията, която в голяма степен разрешава проблема с това, че голяма част от картинките е background (class imbalance).\n",
    "\n",
    "Използваме следната имплементация: https://github.com/fizyr/keras-retinanet, базирана на Keras.\n",
    "\n",
    "Направих \"transfer learning\" с цел по-бързо трениране, като използвах за backbone resent50 мрежа, тренирана с keras-retinanet върху MS COCO дейтасета. Модела може да се свали от тук: https://github.com/fizyr/keras-retinanet/releases"
   ]
  },
  {
   "cell_type": "markdown",
   "metadata": {},
   "source": [
    "## Използвани материали\n",
    "\n",
    "https://www.kaggle.com/kmader/baseline-u-net-model-part-1\n",
    "\n",
    "https://www.kaggle.com/voglinio/from-masks-to-bounding-boxes"
   ]
  }
 ],
 "metadata": {
  "kernelspec": {
   "display_name": "Python 3",
   "language": "python",
   "name": "python3"
  },
  "language_info": {
   "codemirror_mode": {
    "name": "ipython",
    "version": 3
   },
   "file_extension": ".py",
   "mimetype": "text/x-python",
   "name": "python",
   "nbconvert_exporter": "python",
   "pygments_lexer": "ipython3",
   "version": "3.6.8"
  }
 },
 "nbformat": 4,
 "nbformat_minor": 2
}
